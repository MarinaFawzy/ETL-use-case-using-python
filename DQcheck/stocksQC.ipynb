{
 "cells": [
  {
   "cell_type": "code",
   "execution_count": 2,
   "id": "2121e45c-9f71-485a-a6e8-c22c9b08c93e",
   "metadata": {},
   "outputs": [
    {
     "name": "stdout",
     "output_type": "stream",
     "text": [
      "<class 'pandas.core.frame.DataFrame'>\n",
      "RangeIndex: 939 entries, 0 to 938\n",
      "Data columns (total 5 columns):\n",
      " #   Column        Non-Null Count  Dtype  \n",
      "---  ------        --------------  -----  \n",
      " 0   store_id      939 non-null    int64  \n",
      " 1   product_id    939 non-null    int64  \n",
      " 2   quantity      939 non-null    int64  \n",
      " 3   extract_time  939 non-null    float64\n",
      " 4   source        939 non-null    object \n",
      "dtypes: float64(1), int64(3), object(1)\n",
      "memory usage: 36.8+ KB\n"
     ]
    }
   ],
   "source": [
    "import pandas as pd\n",
    "\n",
    "stocks_df = pd.read_csv(r'D:\\Datamamagemet\\python\\source\\bikestore_dim\\landing\\stocks\\stocks.csv')\n",
    "stocks_df.info()\n",
    "\n"
   ]
  },
  {
   "cell_type": "code",
   "execution_count": 3,
   "id": "b7844731",
   "metadata": {},
   "outputs": [
    {
     "data": {
      "text/plain": [
       "store_id        0\n",
       "product_id      0\n",
       "quantity        0\n",
       "extract_time    0\n",
       "source          0\n",
       "dtype: int64"
      ]
     },
     "execution_count": 3,
     "metadata": {},
     "output_type": "execute_result"
    }
   ],
   "source": [
    "stocks_df.isnull().sum()"
   ]
  },
  {
   "cell_type": "code",
   "execution_count": 4,
   "id": "682a283e",
   "metadata": {},
   "outputs": [
    {
     "name": "stdout",
     "output_type": "stream",
     "text": [
      "Duplicated rows:\n",
      "Empty DataFrame\n",
      "Columns: [store_id, product_id, quantity, extract_time, source]\n",
      "Index: []\n"
     ]
    }
   ],
   "source": [
    "# Identify duplicated rows in the stocks DataFrame and print them if any exist\n",
    "duplicated_rows = stocks_df.duplicated()\n",
    "print(\"Duplicated rows:\")\n",
    "print(stocks_df[duplicated_rows])\n"
   ]
  },
  {
   "cell_type": "code",
   "execution_count": 5,
   "id": "f0ef9ee7-f043-4785-a676-64b7b8c960b1",
   "metadata": {},
   "outputs": [],
   "source": [
    "import os\n",
    "\n",
    "\n",
    "output_dir = r'D:\\Datamamagemet\\python\\source\\bikestore_dim\\staging_1\\stocks'\n",
    "\n",
    "os.makedirs(output_dir, exist_ok=True)\n",
    "\n",
    "stocks_df.to_csv(os.path.join(output_dir, 'stocks.csv'), index=False)\n"
   ]
  },
  {
   "cell_type": "code",
   "execution_count": null,
   "id": "ea9689a5",
   "metadata": {},
   "outputs": [],
   "source": []
  },
  {
   "cell_type": "code",
   "execution_count": null,
   "id": "772463ec",
   "metadata": {},
   "outputs": [],
   "source": []
  }
 ],
 "metadata": {
  "kernelspec": {
   "display_name": "Python 3 (ipykernel)",
   "language": "python",
   "name": "python3"
  },
  "language_info": {
   "codemirror_mode": {
    "name": "ipython",
    "version": 3
   },
   "file_extension": ".py",
   "mimetype": "text/x-python",
   "name": "python",
   "nbconvert_exporter": "python",
   "pygments_lexer": "ipython3",
   "version": "3.12.3"
  }
 },
 "nbformat": 4,
 "nbformat_minor": 5
}
