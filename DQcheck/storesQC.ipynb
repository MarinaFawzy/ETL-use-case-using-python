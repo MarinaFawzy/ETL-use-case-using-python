{
 "cells": [
  {
   "cell_type": "code",
   "execution_count": 1,
   "id": "1d63ebf8-9873-4702-a14e-3c0a84ab1627",
   "metadata": {},
   "outputs": [
    {
     "name": "stdout",
     "output_type": "stream",
     "text": [
      "<class 'pandas.core.frame.DataFrame'>\n",
      "RangeIndex: 3 entries, 0 to 2\n",
      "Data columns (total 10 columns):\n",
      " #   Column        Non-Null Count  Dtype  \n",
      "---  ------        --------------  -----  \n",
      " 0   store_id      3 non-null      int64  \n",
      " 1   store_name    3 non-null      object \n",
      " 2   phone         3 non-null      object \n",
      " 3   email         2 non-null      object \n",
      " 4   street        3 non-null      object \n",
      " 5   city          3 non-null      object \n",
      " 6   state         3 non-null      object \n",
      " 7   zip_code      2 non-null      float64\n",
      " 8   extract_time  3 non-null      float64\n",
      " 9   source        3 non-null      object \n",
      "dtypes: float64(2), int64(1), object(7)\n",
      "memory usage: 372.0+ bytes\n"
     ]
    }
   ],
   "source": [
    "import pandas as pd\n",
    "\n",
    "store_df = pd.read_csv(r'D:\\Datamamagemet\\python\\source\\bikestore_dim\\landing\\stores\\stores.csv')\n",
    "store_df.info()\n"
   ]
  },
  {
   "cell_type": "code",
   "execution_count": null,
   "id": "1489cedb",
   "metadata": {},
   "outputs": [],
   "source": [
    "store_df.isnull().sum()\n"
   ]
  },
  {
   "cell_type": "code",
   "execution_count": 5,
   "id": "1a828e3b",
   "metadata": {},
   "outputs": [],
   "source": [
    "# Fill missing values in 'email' and 'zip_code' columns with 'Not available'\n",
    "store_df['email'].fillna('Not available', inplace=True)\n",
    "store_df['zip_code'].fillna('Not available', inplace=True)\n"
   ]
  },
  {
   "cell_type": "code",
   "execution_count": 4,
   "id": "c84d74c7",
   "metadata": {},
   "outputs": [
    {
     "data": {
      "text/plain": [
       "store_id        0\n",
       "store_name      0\n",
       "phone           0\n",
       "email           0\n",
       "street          0\n",
       "city            0\n",
       "state           0\n",
       "zip_code        0\n",
       "extract_time    0\n",
       "source          0\n",
       "dtype: int64"
      ]
     },
     "execution_count": 4,
     "metadata": {},
     "output_type": "execute_result"
    }
   ],
   "source": [
    "store_df.isnull().sum()"
   ]
  },
  {
   "cell_type": "code",
   "execution_count": 7,
   "id": "6337b0eb-8582-4731-a4c8-4c132983d63d",
   "metadata": {},
   "outputs": [
    {
     "name": "stdout",
     "output_type": "stream",
     "text": [
      "Duplicated rows:\n",
      "Empty DataFrame\n",
      "Columns: [store_id, store_name, phone, email, street, city, state, zip_code, extract_time, source]\n",
      "Index: []\n"
     ]
    }
   ],
   "source": [
    "duplicated_rows = store_df.duplicated()\n",
    "\n",
    "# Print the duplicated rows\n",
    "print(\"Duplicated rows:\")\n",
    "print(store_df[duplicated_rows])"
   ]
  },
  {
   "cell_type": "code",
   "execution_count": 8,
   "id": "571ab55c",
   "metadata": {},
   "outputs": [],
   "source": [
    "import os\n",
    "\n",
    "\n",
    "output_dir = r'D:\\Datamamagemet\\python\\source\\bikestore_dim\\staging_1\\store'\n",
    "\n",
    "os.makedirs(output_dir, exist_ok=True)\n",
    "\n",
    "store_df.to_csv(os.path.join(output_dir, 'store.csv'), index=False)\n"
   ]
  },
  {
   "cell_type": "code",
   "execution_count": null,
   "id": "6f8aacab",
   "metadata": {},
   "outputs": [],
   "source": []
  }
 ],
 "metadata": {
  "kernelspec": {
   "display_name": "Python 3 (ipykernel)",
   "language": "python",
   "name": "python3"
  },
  "language_info": {
   "codemirror_mode": {
    "name": "ipython",
    "version": 3
   },
   "file_extension": ".py",
   "mimetype": "text/x-python",
   "name": "python",
   "nbconvert_exporter": "python",
   "pygments_lexer": "ipython3",
   "version": "3.12.3"
  }
 },
 "nbformat": 4,
 "nbformat_minor": 5
}
