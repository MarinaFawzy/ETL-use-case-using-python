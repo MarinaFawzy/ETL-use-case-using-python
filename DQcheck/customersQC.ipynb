{
 "cells": [
  {
   "cell_type": "code",
   "execution_count": 1,
   "id": "e787946b-6387-41b3-96ea-8a7540c550ce",
   "metadata": {},
   "outputs": [
    {
     "name": "stdout",
     "output_type": "stream",
     "text": [
      "<class 'pandas.core.frame.DataFrame'>\n",
      "RangeIndex: 1445 entries, 0 to 1444\n",
      "Data columns (total 11 columns):\n",
      " #   Column        Non-Null Count  Dtype  \n",
      "---  ------        --------------  -----  \n",
      " 0   customer_id   1445 non-null   int64  \n",
      " 1   first_name    1445 non-null   object \n",
      " 2   last_name     1445 non-null   object \n",
      " 3   phone         178 non-null    object \n",
      " 4   email         1445 non-null   object \n",
      " 5   street        1445 non-null   object \n",
      " 6   city          1445 non-null   object \n",
      " 7   state         1445 non-null   object \n",
      " 8   zip_code      1445 non-null   int64  \n",
      " 9   extract_time  1445 non-null   float64\n",
      " 10  source        1445 non-null   object \n",
      "dtypes: float64(1), int64(2), object(8)\n",
      "memory usage: 124.3+ KB\n"
     ]
    },
    {
     "name": "stderr",
     "output_type": "stream",
     "text": [
      "C:\\Users\\Marian\\AppData\\Local\\Temp\\ipykernel_27756\\3196791099.py:7: FutureWarning: A value is trying to be set on a copy of a DataFrame or Series through chained assignment using an inplace method.\n",
      "The behavior will change in pandas 3.0. This inplace method will never work because the intermediate object on which we are setting values always behaves as a copy.\n",
      "\n",
      "For example, when doing 'df[col].method(value, inplace=True)', try using 'df.method({col: value}, inplace=True)' or df[col] = df[col].method(value) instead, to perform the operation inplace on the original object.\n",
      "\n",
      "\n",
      "  customers_df['phone'].fillna('Not available', inplace=True)\n"
     ]
    }
   ],
   "source": [
    "import pandas as pd\n",
    "import os\n",
    "customers_df = pd.read_csv(r'D:\\Datamamagemet\\python\\source\\bikestore_dim\\landing\\customers\\customers.csv')\n",
    "customers_df.info()\n",
    "duplicated_rows = customers_df.duplicated()\n"
   ]
  },
  {
   "cell_type": "code",
   "execution_count": 2,
   "id": "e02ce0c5",
   "metadata": {},
   "outputs": [],
   "source": [
    "# Check for missing values in the 'customers_df' DataFrame and sum the count of missing values for each column\n",
    "customers_df.isnull().sum()\n",
    "\n",
    "# Replace missing values in the 'phone' column with 'Not available'\n",
    "customers_df['phone'].fillna('Not available', inplace=True)\n"
   ]
  },
  {
   "cell_type": "code",
   "execution_count": 3,
   "id": "3858434c-d246-4df3-a94e-2aa7d062ce49",
   "metadata": {},
   "outputs": [
    {
     "name": "stdout",
     "output_type": "stream",
     "text": [
      "Duplicated rows:\n",
      "Empty DataFrame\n",
      "Columns: [customer_id, first_name, last_name, phone, email, street, city, state, zip_code, extract_time, source]\n",
      "Index: []\n"
     ]
    }
   ],
   "source": [
    "# Print the duplicated rows\n",
    "print(\"Duplicated rows:\")\n",
    "print(customers_df[duplicated_rows])\n"
   ]
  },
  {
   "cell_type": "code",
   "execution_count": 4,
   "id": "d05fbdb6",
   "metadata": {},
   "outputs": [],
   "source": [
    "output_dir = r'D:\\Datamamagemet\\python\\source\\bikestore_dim\\staging_1\\customers'\n",
    "\n",
    "# Ensure the output directory exists\n",
    "os.makedirs(output_dir, exist_ok=True)\n",
    "\n",
    "# Write the DataFrame to a CSV file in the output directory\n",
    "customers_df.to_csv(os.path.join(output_dir, 'customers.csv'), index=False)\n"
   ]
  },
  {
   "cell_type": "code",
   "execution_count": null,
   "id": "c3a7798c",
   "metadata": {},
   "outputs": [],
   "source": []
  }
 ],
 "metadata": {
  "kernelspec": {
   "display_name": "Python 3 (ipykernel)",
   "language": "python",
   "name": "python3"
  },
  "language_info": {
   "codemirror_mode": {
    "name": "ipython",
    "version": 3
   },
   "file_extension": ".py",
   "mimetype": "text/x-python",
   "name": "python",
   "nbconvert_exporter": "python",
   "pygments_lexer": "ipython3",
   "version": "3.12.3"
  }
 },
 "nbformat": 4,
 "nbformat_minor": 5
}
