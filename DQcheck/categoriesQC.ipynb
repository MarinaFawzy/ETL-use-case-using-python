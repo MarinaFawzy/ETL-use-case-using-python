{
 "cells": [
  {
   "cell_type": "code",
   "execution_count": 2,
   "id": "fd8fcb2d-7b91-4897-b796-85b477c2b213",
   "metadata": {},
   "outputs": [
    {
     "name": "stdout",
     "output_type": "stream",
     "text": [
      "<class 'pandas.core.frame.DataFrame'>\n",
      "RangeIndex: 7 entries, 0 to 6\n",
      "Data columns (total 4 columns):\n",
      " #   Column         Non-Null Count  Dtype  \n",
      "---  ------         --------------  -----  \n",
      " 0   category_id    7 non-null      int64  \n",
      " 1   category_name  7 non-null      object \n",
      " 2   extract_time   7 non-null      float64\n",
      " 3   source         7 non-null      object \n",
      "dtypes: float64(1), int64(1), object(2)\n",
      "memory usage: 356.0+ bytes\n"
     ]
    }
   ],
   "source": [
    "import pandas as pd\n",
    "\n",
    "categories_df = pd.read_csv(r'D:\\Datamamagemet\\python\\source\\bikestore_dim\\landing\\categories\\categories.csv')\n",
    "categories_df.info()\n",
    "\n"
   ]
  },
  {
   "cell_type": "code",
   "execution_count": 4,
   "id": "aaf4efb6-7586-40ad-bdad-5780fdef722c",
   "metadata": {},
   "outputs": [
    {
     "data": {
      "text/plain": [
       "category_id      0\n",
       "category_name    0\n",
       "extract_time     0\n",
       "source           0\n",
       "dtype: int64"
      ]
     },
     "execution_count": 4,
     "metadata": {},
     "output_type": "execute_result"
    }
   ],
   "source": [
    "#Check for missing values in the brands DataFrame\n",
    "categories_df.isnull().sum()\n",
    "\n"
   ]
  },
  {
   "cell_type": "code",
   "execution_count": 5,
   "id": "5ab5e8db",
   "metadata": {},
   "outputs": [
    {
     "name": "stdout",
     "output_type": "stream",
     "text": [
      "Duplicated rows:\n",
      "Empty DataFrame\n",
      "Columns: [category_id, category_name, extract_time, source]\n",
      "Index: []\n"
     ]
    }
   ],
   "source": [
    "#duplicated rows\n",
    "duplicated_rows = categories_df.duplicated()\n",
    "# Print the duplicated rows\n",
    "print(\"Duplicated rows:\")\n",
    "print(categories_df[duplicated_rows])"
   ]
  },
  {
   "cell_type": "code",
   "execution_count": 6,
   "id": "361593df",
   "metadata": {},
   "outputs": [],
   "source": [
    "import os\n",
    "output_dir = r'D:\\Datamamagemet\\python\\source\\bikestore_dim\\staging_1\\categories'\n",
    "\n",
    "# Ensure the output directory exists\n",
    "os.makedirs(output_dir, exist_ok=True)\n",
    "\n",
    "# Write the DataFrame to a CSV file in the output directory\n",
    "categories_df.to_csv(os.path.join(output_dir, 'categories.csv'), index=False)\n"
   ]
  },
  {
   "cell_type": "code",
   "execution_count": null,
   "id": "3bb68ed8",
   "metadata": {},
   "outputs": [],
   "source": []
  }
 ],
 "metadata": {
  "kernelspec": {
   "display_name": "Python 3 (ipykernel)",
   "language": "python",
   "name": "python3"
  },
  "language_info": {
   "codemirror_mode": {
    "name": "ipython",
    "version": 3
   },
   "file_extension": ".py",
   "mimetype": "text/x-python",
   "name": "python",
   "nbconvert_exporter": "python",
   "pygments_lexer": "ipython3",
   "version": "3.12.3"
  }
 },
 "nbformat": 4,
 "nbformat_minor": 5
}
