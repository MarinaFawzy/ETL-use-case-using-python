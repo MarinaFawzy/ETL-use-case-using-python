{
 "cells": [
  {
   "cell_type": "code",
   "execution_count": 1,
   "id": "c08c16e3-9e1a-41b0-8363-c3b15b64d28a",
   "metadata": {},
   "outputs": [
    {
     "name": "stdout",
     "output_type": "stream",
     "text": [
      "<class 'pandas.core.frame.DataFrame'>\n",
      "RangeIndex: 1 entries, 0 to 0\n",
      "Data columns (total 4 columns):\n",
      " #   Column        Non-Null Count  Dtype  \n",
      "---  ------        --------------  -----  \n",
      " 0   USD_to_EGP    1 non-null      float64\n",
      " 1   Timestamp     1 non-null      int64  \n",
      " 2   extract_time  1 non-null      float64\n",
      " 3   source        1 non-null      object \n",
      "dtypes: float64(2), int64(1), object(1)\n",
      "memory usage: 164.0+ bytes\n"
     ]
    }
   ],
   "source": [
    "import pandas as pd\n",
    "\n",
    "# Read exchange data from CSV file into DataFrame\n",
    "exchange_df = pd.read_csv(r'D:\\Datamamagemet\\python\\source\\bikestore_dim\\landing\\exchange\\exchange.csv')\n",
    "\n",
    "exchange_df.info()\n",
    "\n"
   ]
  },
  {
   "cell_type": "code",
   "execution_count": 2,
   "id": "534826ae-914a-43e9-8d2a-719be74c7da7",
   "metadata": {},
   "outputs": [
    {
     "data": {
      "text/plain": [
       "USD_to_EGP      0\n",
       "Timestamp       0\n",
       "extract_time    0\n",
       "source          0\n",
       "dtype: int64"
      ]
     },
     "execution_count": 2,
     "metadata": {},
     "output_type": "execute_result"
    }
   ],
   "source": [
    "# Check for missing values in the 'exchange_df' DataFrame and sum the count of missing values for each column\n",
    "exchange_df.isnull().sum()\n"
   ]
  },
  {
   "cell_type": "code",
   "execution_count": 3,
   "id": "1d922b5f",
   "metadata": {},
   "outputs": [
    {
     "name": "stdout",
     "output_type": "stream",
     "text": [
      "Duplicated rows:\n",
      "Empty DataFrame\n",
      "Columns: [USD_to_EGP, Timestamp, extract_time, source]\n",
      "Index: []\n"
     ]
    }
   ],
   "source": [
    "duplicated_rows = exchange_df.duplicated()\n",
    "\n",
    "# Print the duplicated rows\n",
    "print(\"Duplicated rows:\")\n",
    "print(exchange_df[duplicated_rows])"
   ]
  },
  {
   "cell_type": "code",
   "execution_count": null,
   "id": "ccab6339",
   "metadata": {},
   "outputs": [],
   "source": []
  }
 ],
 "metadata": {
  "kernelspec": {
   "display_name": "Python 3 (ipykernel)",
   "language": "python",
   "name": "python3"
  },
  "language_info": {
   "codemirror_mode": {
    "name": "ipython",
    "version": 3
   },
   "file_extension": ".py",
   "mimetype": "text/x-python",
   "name": "python",
   "nbconvert_exporter": "python",
   "pygments_lexer": "ipython3",
   "version": "3.12.3"
  }
 },
 "nbformat": 4,
 "nbformat_minor": 5
}
