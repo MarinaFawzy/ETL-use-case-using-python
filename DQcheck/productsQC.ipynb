{
 "cells": [
  {
   "cell_type": "code",
   "execution_count": 1,
   "id": "9a838b0e-9b2d-4b53-987a-478875b92c3e",
   "metadata": {},
   "outputs": [
    {
     "name": "stdout",
     "output_type": "stream",
     "text": [
      "<class 'pandas.core.frame.DataFrame'>\n",
      "RangeIndex: 334 entries, 0 to 333\n",
      "Data columns (total 8 columns):\n",
      " #   Column        Non-Null Count  Dtype  \n",
      "---  ------        --------------  -----  \n",
      " 0   product_id    334 non-null    int64  \n",
      " 1   product_name  334 non-null    object \n",
      " 2   brand_id      334 non-null    int64  \n",
      " 3   category_id   334 non-null    int64  \n",
      " 4   model_year    334 non-null    int64  \n",
      " 5   list_price    334 non-null    float64\n",
      " 6   extract_time  334 non-null    float64\n",
      " 7   source        334 non-null    object \n",
      "dtypes: float64(2), int64(4), object(2)\n",
      "memory usage: 21.0+ KB\n"
     ]
    }
   ],
   "source": [
    "import pandas as pd\n",
    "import os \n",
    "\n",
    "# Read product data from CSV file into DataFrame\n",
    "products_df = pd.read_csv(r'D:\\Datamamagemet\\python\\source\\bikestore_dim\\landing\\products\\products.csv')\n",
    "\n",
    "# Display information about the products DataFrame including the data types and memory usage\n",
    "products_df.info()\n"
   ]
  },
  {
   "cell_type": "code",
   "execution_count": 2,
   "id": "c17967d9",
   "metadata": {},
   "outputs": [
    {
     "data": {
      "text/plain": [
       "product_id      0\n",
       "product_name    0\n",
       "brand_id        0\n",
       "category_id     0\n",
       "model_year      0\n",
       "list_price      0\n",
       "extract_time    0\n",
       "source          0\n",
       "dtype: int64"
      ]
     },
     "execution_count": 2,
     "metadata": {},
     "output_type": "execute_result"
    }
   ],
   "source": [
    "# Check for missing values in the products DataFrame and sum the count of missing values for each column\n",
    "products_df.isnull().sum()\n"
   ]
  },
  {
   "cell_type": "code",
   "execution_count": 3,
   "id": "e7db2500",
   "metadata": {},
   "outputs": [
    {
     "name": "stdout",
     "output_type": "stream",
     "text": [
      "Duplicated rows:\n",
      "     product_id                                     product_name  brand_id  \\\n",
      "15           12               Electra Townie Original 21D - 2016         1   \n",
      "16           13               Electra Cruiser 1 (24-Inch) - 2016         1   \n",
      "17           14    Electra Girl's Hawaii 1 (16-inch) - 2015/2016         1   \n",
      "102          92                          Haro Shredder 20 - 2017         2   \n",
      "103          93                    Haro Shredder 20 Girls - 2017         2   \n",
      "104          94                      Haro Shredder Pro 20 - 2017         2   \n",
      "197         188                       Trek XM700+ Lowstep - 2018         9   \n",
      "198         189                        Trek Lift+ Lowstep - 2018         9   \n",
      "199         190                          Trek Dual Sport+ - 2018         9   \n",
      "303         291   Electra Sweet Ride 1 (20-inch) - Girl's - 2018         1   \n",
      "304         292  Electra Sweet Ride 3i (20-inch) - Girls' - 2018         1   \n",
      "305         293   Electra Tiger Shark 1 (20-inch) - Boys' - 2018         1   \n",
      "306         294  Electra Tiger Shark 3i (20-inch) - Boys' - 2018         1   \n",
      "\n",
      "     category_id  model_year  list_price  extract_time     source  \n",
      "15             3        2016      549.99  1.714325e+09  datalake   \n",
      "16             3        2016      269.99  1.714325e+09  datalake   \n",
      "17             3        2016      269.99  1.714325e+09  datalake   \n",
      "102            1        2017      209.99  1.714325e+09  datalake   \n",
      "103            1        2017      209.99  1.714325e+09  datalake   \n",
      "104            1        2017      249.99  1.714325e+09  datalake   \n",
      "197            5        2018     3499.99  1.714325e+09  datalake   \n",
      "198            5        2018     2799.99  1.714325e+09  datalake   \n",
      "199            5        2018     2799.99  1.714325e+09  datalake   \n",
      "303            1        2018      319.99  1.714325e+09  datalake   \n",
      "304            1        2018      369.99  1.714325e+09  datalake   \n",
      "305            1        2018      319.99  1.714325e+09  datalake   \n",
      "306            1        2018      369.99  1.714325e+09  datalake   \n"
     ]
    }
   ],
   "source": [
    "# Identify duplicated rows in the products DataFrame\n",
    "duplicated_rows = products_df.duplicated()\n",
    "\n",
    "# Print duplicated rows, if any\n",
    "print(\"Duplicated rows:\")\n",
    "print(products_df[duplicated_rows])\n",
    "\n",
    "# Drop duplicate rows from the products DataFrame\n",
    "products_df.drop_duplicates(inplace=True)\n"
   ]
  },
  {
   "cell_type": "code",
   "execution_count": 7,
   "id": "219fbfc8-4237-49f7-ac1d-399de102ed2d",
   "metadata": {},
   "outputs": [
    {
     "name": "stdout",
     "output_type": "stream",
     "text": [
      "Empty DataFrame\n",
      "Columns: [product_id, product_name, brand_id, category_id, model_year, list_price]\n",
      "Index: []\n"
     ]
    },
    {
     "name": "stderr",
     "output_type": "stream",
     "text": [
      "C:\\Users\\Marian\\AppData\\Local\\Temp\\ipykernel_16776\\557012750.py:1: UserWarning: Boolean Series key will be reindexed to match DataFrame index.\n",
      "  print(products_df[duplicated_rows])\n"
     ]
    }
   ],
   "source": [
    "\n",
    "output_dir = r'D:\\Datamamagemet\\python\\source\\bikestore_dim\\staging_1\\products'\n",
    "\n",
    "os.makedirs(output_dir, exist_ok=True)\n",
    "\n",
    "products_df.to_csv(os.path.join(output_dir, 'products.csv'), index=False)\n"
   ]
  },
  {
   "cell_type": "code",
   "execution_count": null,
   "id": "f604b7f9-0e69-4b00-b962-40ccc40560c8",
   "metadata": {},
   "outputs": [],
   "source": []
  }
 ],
 "metadata": {
  "kernelspec": {
   "display_name": "Python 3 (ipykernel)",
   "language": "python",
   "name": "python3"
  },
  "language_info": {
   "codemirror_mode": {
    "name": "ipython",
    "version": 3
   },
   "file_extension": ".py",
   "mimetype": "text/x-python",
   "name": "python",
   "nbconvert_exporter": "python",
   "pygments_lexer": "ipython3",
   "version": "3.12.3"
  }
 },
 "nbformat": 4,
 "nbformat_minor": 5
}
