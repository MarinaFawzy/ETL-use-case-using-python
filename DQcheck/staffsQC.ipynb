{
 "cells": [
  {
   "cell_type": "code",
   "execution_count": 1,
   "id": "5004d650-35ec-4cf8-94e4-c53c2d3b70bd",
   "metadata": {},
   "outputs": [
    {
     "name": "stdout",
     "output_type": "stream",
     "text": [
      "<class 'pandas.core.frame.DataFrame'>\n",
      "RangeIndex: 10 entries, 0 to 9\n",
      "Data columns (total 10 columns):\n",
      " #   Column        Non-Null Count  Dtype  \n",
      "---  ------        --------------  -----  \n",
      " 0   staff_id      10 non-null     int64  \n",
      " 1   first_name    10 non-null     object \n",
      " 2   last_name     9 non-null      object \n",
      " 3   email         9 non-null      object \n",
      " 4   phone         8 non-null      object \n",
      " 5   active        10 non-null     int64  \n",
      " 6   store_id      9 non-null      float64\n",
      " 7   manager_id    9 non-null      float64\n",
      " 8   extract_time  10 non-null     float64\n",
      " 9   source        10 non-null     object \n",
      "dtypes: float64(3), int64(2), object(5)\n",
      "memory usage: 932.0+ bytes\n"
     ]
    },
    {
     "data": {
      "text/plain": [
       "staff_id        0\n",
       "first_name      0\n",
       "last_name       1\n",
       "email           1\n",
       "phone           2\n",
       "active          0\n",
       "store_id        1\n",
       "manager_id      1\n",
       "extract_time    0\n",
       "source          0\n",
       "dtype: int64"
      ]
     },
     "execution_count": 1,
     "metadata": {},
     "output_type": "execute_result"
    }
   ],
   "source": [
    "import pandas as pd\n",
    "import os\n",
    "staff_df = pd.read_csv(r'D:\\Datamamagemet\\python\\source\\bikestore_dim\\landing\\staffs\\staffs.csv')\n",
    "staff_df.info()\n",
    "staff_df.isnull().sum()\n"
   ]
  },
  {
   "cell_type": "code",
   "execution_count": null,
   "id": "f73aeb4f",
   "metadata": {},
   "outputs": [],
   "source": [
    "# Fill missing values in specific columns of the staff DataFrame with default values\n",
    "staff_df['phone'].fillna('Not available', inplace=True)\n",
    "staff_df['last_name'].fillna('Not available', inplace=True)\n",
    "staff_df['email'].fillna('Not available', inplace=True)\n",
    "staff_df['store_id'].fillna('0', inplace=True)\n",
    "staff_df['manager_id'].fillna('0', inplace=True)\n",
    "\n"
   ]
  },
  {
   "cell_type": "code",
   "execution_count": 2,
   "id": "1a4b6c14-4f89-4881-8f4b-d94c68e1735f",
   "metadata": {},
   "outputs": [
    {
     "name": "stdout",
     "output_type": "stream",
     "text": [
      "Duplicated rows:\n",
      "Empty DataFrame\n",
      "Columns: [staff_id, first_name, last_name, email, phone, active, store_id, manager_id, extract_time, source]\n",
      "Index: []\n"
     ]
    }
   ],
   "source": [
    "duplicated_rows = staff_df.duplicated()\n",
    "print(\"Duplicated rows:\")\n",
    "print(staff_df[duplicated_rows])\n",
    "\n"
   ]
  },
  {
   "cell_type": "code",
   "execution_count": null,
   "id": "43694016",
   "metadata": {},
   "outputs": [],
   "source": [
    "output_dir = r'D:\\Datamamagemet\\python\\source\\bikestore_dim\\staging_1\\staffs'\n",
    "\n",
    "os.makedirs(output_dir, exist_ok=True)\n",
    "\n",
    "staff_df.to_csv(os.path.join(output_dir, 'staffs.csv'), index=False)\n"
   ]
  }
 ],
 "metadata": {
  "kernelspec": {
   "display_name": "Python 3 (ipykernel)",
   "language": "python",
   "name": "python3"
  },
  "language_info": {
   "codemirror_mode": {
    "name": "ipython",
    "version": 3
   },
   "file_extension": ".py",
   "mimetype": "text/x-python",
   "name": "python",
   "nbconvert_exporter": "python",
   "pygments_lexer": "ipython3",
   "version": "3.12.3"
  }
 },
 "nbformat": 4,
 "nbformat_minor": 5
}
