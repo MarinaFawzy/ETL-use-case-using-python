{
 "cells": [
  {
   "cell_type": "code",
   "execution_count": 1,
   "id": "2bf0e90f-0f4f-4b91-892f-e8c2c25a2e35",
   "metadata": {},
   "outputs": [
    {
     "name": "stdout",
     "output_type": "stream",
     "text": [
      "<class 'pandas.core.frame.DataFrame'>\n",
      "RangeIndex: 9 entries, 0 to 8\n",
      "Data columns (total 4 columns):\n",
      " #   Column        Non-Null Count  Dtype  \n",
      "---  ------        --------------  -----  \n",
      " 0   brand_id      9 non-null      int64  \n",
      " 1   brand_name    9 non-null      object \n",
      " 2   extract_time  9 non-null      float64\n",
      " 3   source        9 non-null      object \n",
      "dtypes: float64(1), int64(1), object(2)\n",
      "memory usage: 420.0+ bytes\n"
     ]
    }
   ],
   "source": [
    "import pandas as pd\n",
    "import os\n",
    "brands_df = pd.read_csv(r'D:\\Datamamagemet\\python\\source\\bikestore_dim\\landing\\brands\\brands.csv')\n",
    "\n",
    "brands_df.info()\n"
   ]
  },
  {
   "cell_type": "code",
   "execution_count": 3,
   "id": "f8264622-a1b9-4311-ac58-19dbedfbe873",
   "metadata": {},
   "outputs": [
    {
     "name": "stdout",
     "output_type": "stream",
     "text": [
      "Duplicated rows:\n",
      "Empty DataFrame\n",
      "Columns: [brand_id, brand_name, extract_time, source]\n",
      "Index: []\n"
     ]
    }
   ],
   "source": [
    "duplicated_rows = brands_df.duplicated()\n",
    "\n",
    "#Check for missing values in the brands DataFrame\n",
    "brands_df.isnull().sum()\n",
    "\n",
    "# Print the duplicated rows\n",
    "print(\"Duplicated rows:\")\n",
    "print(brands_df[duplicated_rows])\n",
    "\n"
   ]
  },
  {
   "cell_type": "code",
   "execution_count": 4,
   "id": "a3234648",
   "metadata": {},
   "outputs": [],
   "source": [
    "output_dir = r'D:\\Datamamagemet\\python\\source\\bikestore_dim\\staging_1\\brands'\n",
    "\n",
    "# Ensure the output directory exists\n",
    "os.makedirs(output_dir, exist_ok=True)\n",
    "\n",
    "# Write the DataFrame to a CSV file in the output directory\n",
    "brands_df.to_csv(os.path.join(output_dir, 'brands.csv'), index=False)\n"
   ]
  },
  {
   "cell_type": "code",
   "execution_count": null,
   "id": "64d07add",
   "metadata": {},
   "outputs": [],
   "source": []
  }
 ],
 "metadata": {
  "kernelspec": {
   "display_name": "Python 3 (ipykernel)",
   "language": "python",
   "name": "python3"
  },
  "language_info": {
   "codemirror_mode": {
    "name": "ipython",
    "version": 3
   },
   "file_extension": ".py",
   "mimetype": "text/x-python",
   "name": "python",
   "nbconvert_exporter": "python",
   "pygments_lexer": "ipython3",
   "version": "3.12.3"
  }
 },
 "nbformat": 4,
 "nbformat_minor": 5
}
