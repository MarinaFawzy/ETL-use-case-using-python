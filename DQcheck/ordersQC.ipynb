{
 "cells": [
  {
   "cell_type": "code",
   "execution_count": null,
   "id": "c832f10a-af97-438e-9c97-14add5b6e9f0",
   "metadata": {},
   "outputs": [
    {
     "name": "stdout",
     "output_type": "stream",
     "text": [
      "<class 'pandas.core.frame.DataFrame'>\n",
      "RangeIndex: 1615 entries, 0 to 1614\n",
      "Data columns (total 10 columns):\n",
      " #   Column         Non-Null Count  Dtype  \n",
      "---  ------         --------------  -----  \n",
      " 0   order_id       1615 non-null   int64  \n",
      " 1   customer_id    1615 non-null   int64  \n",
      " 2   order_status   1615 non-null   int64  \n",
      " 3   order_date     1615 non-null   object \n",
      " 4   required_date  1615 non-null   object \n",
      " 5   shipped_date   1445 non-null   object \n",
      " 6   store_id       1615 non-null   int64  \n",
      " 7   staff_id       1615 non-null   int64  \n",
      " 8   extract_time   1615 non-null   float64\n",
      " 9   source         1615 non-null   object \n",
      "dtypes: float64(1), int64(5), object(4)\n",
      "memory usage: 126.3+ KB\n"
     ]
    }
   ],
   "source": [
    "import pandas as pd\n",
    "\n",
    "order_df = pd.read_csv(r'D:\\Datamamagemet\\python\\source\\bikestore_dim\\landing\\orders\\orders.csv')\n",
    "\n",
    "order_df.info()\n",
    "\n"
   ]
  },
  {
   "cell_type": "code",
   "execution_count": 2,
   "id": "efba0976",
   "metadata": {},
   "outputs": [
    {
     "data": {
      "text/plain": [
       "order_id           0\n",
       "customer_id        0\n",
       "order_status       0\n",
       "order_date         0\n",
       "required_date      0\n",
       "shipped_date     170\n",
       "store_id           0\n",
       "staff_id           0\n",
       "extract_time       0\n",
       "source             0\n",
       "dtype: int64"
      ]
     },
     "execution_count": 2,
     "metadata": {},
     "output_type": "execute_result"
    }
   ],
   "source": [
    "order_df.isnull().sum()\n"
   ]
  },
  {
   "cell_type": "code",
   "execution_count": 1,
   "id": "6b05600d-79e7-437b-865e-32118f8fcb29",
   "metadata": {},
   "outputs": [
    {
     "ename": "NameError",
     "evalue": "name 'order_df' is not defined",
     "output_type": "error",
     "traceback": [
      "\u001b[1;31m---------------------------------------------------------------------------\u001b[0m",
      "\u001b[1;31mNameError\u001b[0m                                 Traceback (most recent call last)",
      "Cell \u001b[1;32mIn[1], line 2\u001b[0m\n\u001b[0;32m      1\u001b[0m \u001b[38;5;66;03m# Identify duplicated rows in the order_df DataFrame and print them if any exist\u001b[39;00m\n\u001b[1;32m----> 2\u001b[0m duplicated_rows \u001b[38;5;241m=\u001b[39m \u001b[43morder_df\u001b[49m\u001b[38;5;241m.\u001b[39mduplicated()\n\u001b[0;32m      3\u001b[0m \u001b[38;5;28mprint\u001b[39m(\u001b[38;5;124m\"\u001b[39m\u001b[38;5;124mDuplicated rows:\u001b[39m\u001b[38;5;124m\"\u001b[39m)\n\u001b[0;32m      4\u001b[0m \u001b[38;5;28mprint\u001b[39m(order_df[duplicated_rows])\n",
      "\u001b[1;31mNameError\u001b[0m: name 'order_df' is not defined"
     ]
    }
   ],
   "source": [
    "# Identify duplicated rows in the order_df DataFrame and print them if any exist\n",
    "duplicated_rows = order_df.duplicated()\n",
    "print(\"Duplicated rows:\")\n",
    "print(order_df[duplicated_rows])\n"
   ]
  },
  {
   "cell_type": "code",
   "execution_count": 6,
   "id": "b621e9ef-6df7-4899-859b-95cdeba4dd7f",
   "metadata": {},
   "outputs": [
    {
     "data": {
      "text/plain": [
       "order_id         0\n",
       "customer_id      0\n",
       "order_status     0\n",
       "order_date       0\n",
       "required_date    0\n",
       "shipped_date     0\n",
       "store_id         0\n",
       "staff_id         0\n",
       "extract_time     0\n",
       "source           0\n",
       "dtype: int64"
      ]
     },
     "execution_count": 6,
     "metadata": {},
     "output_type": "execute_result"
    }
   ],
   "source": [
    "# Filter order_df to include orders within a specified date range\n",
    "order_df = order_df[\n",
    "    (order_df['order_date'].between('2000-01-01', '2024-12-31')) &\n",
    "    (order_df['required_date'].between('2000-01-01', '2024-12-31')) &\n",
    "    (order_df['shipped_date'].between('2000-01-01', '2024-12-31'))\n",
    "]\n",
    "\n",
    "# Check for missing values in the filtered order DataFrame\n",
    "order_df.isnull().sum()\n"
   ]
  },
  {
   "cell_type": "code",
   "execution_count": 5,
   "id": "bb8a84b9-5cc0-4253-84aa-b90aec943f49",
   "metadata": {},
   "outputs": [
    {
     "name": "stdout",
     "output_type": "stream",
     "text": [
      "Duplicated rows:\n",
      "Empty DataFrame\n",
      "Columns: [order_id, customer_id, order_status, order_date, required_date, shipped_date, store_id, staff_id, extract_time, source]\n",
      "Index: []\n"
     ]
    },
    {
     "name": "stderr",
     "output_type": "stream",
     "text": [
      "C:\\Users\\Marian\\AppData\\Local\\Temp\\ipykernel_22200\\1766587315.py:3: UserWarning: Boolean Series key will be reindexed to match DataFrame index.\n",
      "  print(order_df[duplicated_rows])\n"
     ]
    }
   ],
   "source": [
    "import os\n",
    "\n",
    "output_dir = r'D:\\Datamamagemet\\python\\source\\bikestore_dim\\staging_1\\order'\n",
    "\n",
    "os.makedirs(output_dir, exist_ok=True)\n",
    "\n",
    "order_df.to_csv(os.path.join(output_dir, 'order.csv'), index=False)\n"
   ]
  },
  {
   "cell_type": "code",
   "execution_count": null,
   "id": "d8613e96",
   "metadata": {},
   "outputs": [],
   "source": []
  }
 ],
 "metadata": {
  "kernelspec": {
   "display_name": "Python 3 (ipykernel)",
   "language": "python",
   "name": "python3"
  },
  "language_info": {
   "codemirror_mode": {
    "name": "ipython",
    "version": 3
   },
   "file_extension": ".py",
   "mimetype": "text/x-python",
   "name": "python",
   "nbconvert_exporter": "python",
   "pygments_lexer": "ipython3",
   "version": "3.12.3"
  }
 },
 "nbformat": 4,
 "nbformat_minor": 5
}
