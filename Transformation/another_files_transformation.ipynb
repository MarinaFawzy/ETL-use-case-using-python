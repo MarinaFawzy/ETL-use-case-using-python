{
 "cells": [
  {
   "cell_type": "code",
   "execution_count": 1,
   "metadata": {},
   "outputs": [],
   "source": [
    "import pandas as pd\n",
    "import os\n",
    "\n",
    "# copy brands from staging_1 to staging_2\n",
    "customers_df = pd.read_csv(r'D:\\Datamamagemet\\python\\source\\bikestore_dim\\staging_1\\brands\\brands.csv')\n",
    "\n",
    "output_dir = r'D:\\Datamamagemet\\python\\source\\bikestore_dim\\staging_2\\brands'\n",
    "\n",
    "os.makedirs(output_dir, exist_ok=True)\n",
    "\n",
    "customers_df.to_csv(os.path.join(output_dir, 'brands.csv'), index=False)\n"
   ]
  },
  {
   "cell_type": "code",
   "execution_count": 3,
   "metadata": {},
   "outputs": [],
   "source": [
    "# copy categories from staging_1 to staging_2\n",
    "categories_df = pd.read_csv(r'D:\\Datamamagemet\\python\\source\\bikestore_dim\\staging_1\\categories\\categories.csv')\n",
    "\n",
    "output_dir = r'D:\\Datamamagemet\\python\\source\\bikestore_dim\\staging_2\\categories'\n",
    "\n",
    "os.makedirs(output_dir, exist_ok=True)\n",
    "\n",
    "categories_df.to_csv(os.path.join(output_dir, 'categories.csv'), index=False)\n"
   ]
  },
  {
   "cell_type": "code",
   "execution_count": 4,
   "metadata": {},
   "outputs": [],
   "source": [
    "# copy exchange from staging_1 to staging_2\n",
    "exchange_df = pd.read_csv(r'D:\\Datamamagemet\\python\\source\\bikestore_dim\\staging_1\\exchange\\exchange.csv')\n",
    "\n",
    "output_dir = r'D:\\Datamamagemet\\python\\source\\bikestore_dim\\staging_2\\exchange'\n",
    "\n",
    "os.makedirs(output_dir, exist_ok=True)\n",
    "\n",
    "exchange_df.to_csv(os.path.join(output_dir, 'exchange.csv'), index=False)\n"
   ]
  },
  {
   "cell_type": "code",
   "execution_count": 5,
   "metadata": {},
   "outputs": [],
   "source": [
    "\n",
    "\n",
    "# copy products from staging_1 to staging_2\n",
    "products_df = pd.read_csv(r'D:\\Datamamagemet\\python\\source\\bikestore_dim\\staging_1\\products\\products.csv')\n",
    "\n",
    "output_dir = r'D:\\Datamamagemet\\python\\source\\bikestore_dim\\staging_2\\products'\n",
    "\n",
    "os.makedirs(output_dir, exist_ok=True)\n",
    "\n",
    "products_df.to_csv(os.path.join(output_dir, 'products.csv'), index=False)\n",
    "\n"
   ]
  },
  {
   "cell_type": "code",
   "execution_count": 6,
   "metadata": {},
   "outputs": [],
   "source": [
    "\n",
    "\n",
    "# copy staffs from staging_1 to staging_2\n",
    "staffs_df = pd.read_csv(r'D:\\Datamamagemet\\python\\source\\bikestore_dim\\staging_1\\staffs\\staffs.csv')\n",
    "\n",
    "output_dir = r'D:\\Datamamagemet\\python\\source\\bikestore_dim\\staging_2\\staffs'\n",
    "\n",
    "os.makedirs(output_dir, exist_ok=True)\n",
    "\n",
    "staffs_df.to_csv(os.path.join(output_dir, 'staffs.csv'), index=False)\n",
    "\n"
   ]
  },
  {
   "cell_type": "code",
   "execution_count": 7,
   "metadata": {},
   "outputs": [],
   "source": [
    "\n",
    "\n",
    "# copy stocks from staging_1 to staging_2\n",
    "stocks_df = pd.read_csv(r'D:\\Datamamagemet\\python\\source\\bikestore_dim\\staging_1\\stocks\\stocks.csv')\n",
    "\n",
    "output_dir = r'D:\\Datamamagemet\\python\\source\\bikestore_dim\\staging_2\\stocks'\n",
    "\n",
    "os.makedirs(output_dir, exist_ok=True)\n",
    "\n",
    "stocks_df.to_csv(os.path.join(output_dir, 'stocks.csv'), index=False)\n",
    "\n"
   ]
  },
  {
   "cell_type": "code",
   "execution_count": 8,
   "metadata": {},
   "outputs": [],
   "source": [
    "\n",
    "\n",
    "# copy store from staging_1 to staging_2\n",
    "store_df = pd.read_csv(r'D:\\Datamamagemet\\python\\source\\bikestore_dim\\staging_1\\store\\store.csv')\n",
    "\n",
    "output_dir = r'D:\\Datamamagemet\\python\\source\\bikestore_dim\\staging_2\\store'\n",
    "\n",
    "os.makedirs(output_dir, exist_ok=True)\n",
    "\n",
    "store_df.to_csv(os.path.join(output_dir, 'store.csv'), index=False)\n",
    "\n"
   ]
  },
  {
   "cell_type": "code",
   "execution_count": null,
   "metadata": {},
   "outputs": [],
   "source": []
  }
 ],
 "metadata": {
  "kernelspec": {
   "display_name": "Python 3",
   "language": "python",
   "name": "python3"
  },
  "language_info": {
   "codemirror_mode": {
    "name": "ipython",
    "version": 3
   },
   "file_extension": ".py",
   "mimetype": "text/x-python",
   "name": "python",
   "nbconvert_exporter": "python",
   "pygments_lexer": "ipython3",
   "version": "3.12.3"
  }
 },
 "nbformat": 4,
 "nbformat_minor": 2
}
