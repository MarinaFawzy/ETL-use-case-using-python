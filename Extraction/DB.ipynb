{
 "cells": [
  {
   "cell_type": "code",
   "execution_count": 1,
   "id": "ad3a2414-29fb-4faf-a666-8b0d2b7e731c",
   "metadata": {},
   "outputs": [],
   "source": [
    "\n",
    "import pandas as pd\n",
    "import os\n",
    "from datetime import datetime\n",
    "\n",
    "# Read the CSV file into a DataFrame\n",
    "orders_df = pd.read_csv(r'D:\\Datamamagemet\\python\\source\\orders.csv')\n",
    "\n",
    "# Define the output directory\n",
    "output_dir = r'D:\\Datamamagemet\\python\\source\\bikestore_dim\\landing\\orders'\n",
    "# Add coulmn extract_time and source\n",
    "orders_df['extract_time'] = datetime.now().timestamp()\n",
    "orders_df['source'] = 'DB'\n",
    "\n",
    "# Ensure the output directory exists\n",
    "os.makedirs(output_dir, exist_ok=True)\n",
    "\n",
    "# Write the DataFrame to a CSV file in the output directory\n",
    "orders_df.to_csv(os.path.join(output_dir, 'orders.csv'), index=False)\n",
    "\n",
    "\n"
   ]
  },
  {
   "cell_type": "code",
   "execution_count": 2,
   "id": "21b2bc64-85a5-4f66-ae8c-311b1520de2d",
   "metadata": {},
   "outputs": [],
   "source": [
    "\n",
    "# Read the CSV file into a DataFrame\n",
    "order_items_df = pd.read_csv(r'D:\\Datamamagemet\\python\\source\\order_items.csv')\n",
    "# Add coulmn extract_time and source\n",
    "order_items_df['extract_time'] = datetime.now().timestamp()\n",
    "order_items_df['source'] = 'DB'\n",
    "\n",
    "# Define the output directory\n",
    "output_dir = r'D:\\Datamamagemet\\python\\source\\bikestore_dim\\landing\\order_items'\n",
    "\n",
    "# Ensure the output directory exists\n",
    "os.makedirs(output_dir, exist_ok=True)\n",
    "\n",
    "# Write the DataFrame to a CSV file in the output directory\n",
    "order_items_df.to_csv(os.path.join(output_dir, 'order_items.csv'), index=False)\n",
    "\n",
    "\n"
   ]
  },
  {
   "cell_type": "code",
   "execution_count": null,
   "id": "73844818-9fe5-4565-98a7-9b92a27a9059",
   "metadata": {},
   "outputs": [],
   "source": []
  }
 ],
 "metadata": {
  "kernelspec": {
   "display_name": "Python 3 (ipykernel)",
   "language": "python",
   "name": "python3"
  },
  "language_info": {
   "codemirror_mode": {
    "name": "ipython",
    "version": 3
   },
   "file_extension": ".py",
   "mimetype": "text/x-python",
   "name": "python",
   "nbconvert_exporter": "python",
   "pygments_lexer": "ipython3",
   "version": "3.12.3"
  }
 },
 "nbformat": 4,
 "nbformat_minor": 5
}
