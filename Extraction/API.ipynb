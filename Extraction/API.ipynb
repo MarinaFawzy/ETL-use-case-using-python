{
 "cells": [
  {
   "cell_type": "code",
   "execution_count": 6,
   "id": "ce46a78d-5792-4908-b0f8-9ea5d81017aa",
   "metadata": {},
   "outputs": [
    {
     "data": {
      "text/html": [
       "<div>\n",
       "<style scoped>\n",
       "    .dataframe tbody tr th:only-of-type {\n",
       "        vertical-align: middle;\n",
       "    }\n",
       "\n",
       "    .dataframe tbody tr th {\n",
       "        vertical-align: top;\n",
       "    }\n",
       "\n",
       "    .dataframe thead th {\n",
       "        text-align: right;\n",
       "    }\n",
       "</style>\n",
       "<table border=\"1\" class=\"dataframe\">\n",
       "  <thead>\n",
       "    <tr style=\"text-align: right;\">\n",
       "      <th></th>\n",
       "      <th>USD_to_EGP</th>\n",
       "      <th>Timestamp</th>\n",
       "      <th>extract_time</th>\n",
       "      <th>source</th>\n",
       "    </tr>\n",
       "  </thead>\n",
       "  <tbody>\n",
       "    <tr>\n",
       "      <th>0</th>\n",
       "      <td>47.9</td>\n",
       "      <td>1714262401</td>\n",
       "      <td>1.714320e+09</td>\n",
       "      <td>API</td>\n",
       "    </tr>\n",
       "  </tbody>\n",
       "</table>\n",
       "</div>"
      ],
      "text/plain": [
       "   USD_to_EGP   Timestamp  extract_time source\n",
       "0        47.9  1714262401  1.714320e+09    API"
      ]
     },
     "execution_count": 6,
     "metadata": {},
     "output_type": "execute_result"
    }
   ],
   "source": [
    "import pandas as pd\n",
    "import requests\n",
    "from datetime import datetime\n",
    "#fetche the latest USD to EGP exchange rate from an API, stores it with timestamp and extraction time in a Pandas DataFrame, and marks the source as 'API\n",
    "response = requests.get('https://api.exchangerate-api.com/v4/latest/USD')\n",
    "\n",
    "data = response.json()\n",
    "    \n",
    "exchange_rates = data['rates']\n",
    "    \n",
    "usd_exchange_rate = exchange_rates.get('EGP')\n",
    "  \n",
    "timestamp = data['time_last_updated']\n",
    "\n",
    "df = pd.DataFrame({'USD_to_EGP': [usd_exchange_rate], 'Timestamp': [timestamp]})\n",
    "df['extract_time'] = datetime.now().timestamp()\n",
    "df['source'] = 'API'\n",
    "df  \n"
   ]
  },
  {
   "cell_type": "code",
   "execution_count": 7,
   "id": "fddf7b83-2a28-4c76-b199-a5502b55142c",
   "metadata": {},
   "outputs": [],
   "source": [
    "import os\n",
    "\n",
    "output_dir = r'D:\\Datamamagemet\\python\\source\\bikestore_dim\\landing\\exchange'\n",
    "\n",
    "# Ensure the output directory exists\n",
    "os.makedirs(output_dir, exist_ok=True)\n",
    "\n",
    "# Write the DataFrame to a CSV file in the output directory\n",
    "df.to_csv(os.path.join(output_dir, 'exchange.csv'), index=False)\n"
   ]
  },
  {
   "cell_type": "code",
   "execution_count": 8,
   "id": "3578402d-c7f5-40ac-a75d-d6ec6ea592d8",
   "metadata": {},
   "outputs": [
    {
     "name": "stdout",
     "output_type": "stream",
     "text": [
      "   USD_to_EGP   Timestamp  extract_time source\n",
      "0        47.9  1714262401  1.714320e+09    API\n"
     ]
    }
   ],
   "source": [
    "print(df)"
   ]
  },
  {
   "cell_type": "code",
   "execution_count": null,
   "id": "b9eefd3f-be6a-448d-a6d9-d2d70e0b88bc",
   "metadata": {},
   "outputs": [],
   "source": []
  }
 ],
 "metadata": {
  "kernelspec": {
   "display_name": "Python 3 (ipykernel)",
   "language": "python",
   "name": "python3"
  },
  "language_info": {
   "codemirror_mode": {
    "name": "ipython",
    "version": 3
   },
   "file_extension": ".py",
   "mimetype": "text/x-python",
   "name": "python",
   "nbconvert_exporter": "python",
   "pygments_lexer": "ipython3",
   "version": "3.12.3"
  }
 },
 "nbformat": 4,
 "nbformat_minor": 5
}
