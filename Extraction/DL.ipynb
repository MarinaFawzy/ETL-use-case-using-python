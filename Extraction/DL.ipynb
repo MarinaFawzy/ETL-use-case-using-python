{
 "cells": [
  {
   "cell_type": "code",
   "execution_count": 33,
   "id": "27202f87-bb4a-40d1-9678-016816677a89",
   "metadata": {},
   "outputs": [],
   "source": [
    "import pandas as pd\n",
    "from datetime import datetime\n",
    "import os\n",
    "\n",
    "#Function to extract csv files and load data into csv files \n",
    "def load_files(source_name, file):\n",
    "    df_file = pd.read_csv( r'D:\\Datamamagemet\\python\\source\\\\' + file)\n",
    "    # Add coulmn extract_time and source\n",
    "    df_file['extract_time'] = datetime.now().timestamp()\n",
    "    df_file['source'] = source_name\n",
    "    \n",
    "    # Extract file name without extension\n",
    "    file_name = os.path.splitext(os.path.basename(file))[0]\n",
    "    \n",
    "    # Define output directory\n",
    "    output_dir = r'D:\\Datamamagemet\\python\\source\\bikestore_dim\\landing\\\\' + file_name\n",
    "    \n",
    "    os.makedirs(output_dir, exist_ok=True)\n",
    "    df_file.to_csv(os.path.join(output_dir, file ), index=False)\n",
    "\n"
   ]
  },
  {
   "cell_type": "code",
   "execution_count": 42,
   "id": "903cd4a1-32b1-4728-a10d-3ab8ff53890b",
   "metadata": {},
   "outputs": [],
   "source": [
    "#Extract and load file brands\n",
    "load_files('datalake ','brands.csv')\n"
   ]
  },
  {
   "cell_type": "code",
   "execution_count": 43,
   "id": "810d347f-bd47-4d0c-9bb9-04f7817431f5",
   "metadata": {},
   "outputs": [],
   "source": [
    "#Extract and load file categories\n",
    "load_files('datalake ','categories.csv')\n"
   ]
  },
  {
   "cell_type": "code",
   "execution_count": 37,
   "id": "0966fae8-dc70-407f-a8bf-8c9b64a92126",
   "metadata": {},
   "outputs": [],
   "source": [
    "#Extract and load file customers\n",
    "load_files('datalake ','customers.csv')\n"
   ]
  },
  {
   "cell_type": "code",
   "execution_count": 44,
   "id": "68761250-b0a0-42a5-b635-c4f4c3dc55d2",
   "metadata": {},
   "outputs": [],
   "source": [
    "#Extract and load file products\n",
    "load_files('datalake ','products.csv')\n",
    "\n",
    "\n",
    "\n"
   ]
  },
  {
   "cell_type": "code",
   "execution_count": 39,
   "id": "28551116-bfb6-4d79-9922-aa24a0e37bec",
   "metadata": {},
   "outputs": [],
   "source": [
    "#Extract and load file staffs\n",
    "load_files('datalake ','staffs.csv')\n"
   ]
  },
  {
   "cell_type": "code",
   "execution_count": 45,
   "id": "6c0762c2-d4f4-4cee-98c4-fb65af4068b9",
   "metadata": {},
   "outputs": [],
   "source": [
    "#Extract and load file stocks\n",
    "load_files('datalake ','stocks.csv')\n"
   ]
  },
  {
   "cell_type": "code",
   "execution_count": 46,
   "id": "6d28f952-b066-4884-8791-97102fe40e23",
   "metadata": {},
   "outputs": [],
   "source": [
    "#Extract and load file stores\n",
    "load_files('datalake ','stores.csv')\n"
   ]
  },
  {
   "cell_type": "code",
   "execution_count": null,
   "id": "12539d1d-51e9-4ea2-9265-d43462a43864",
   "metadata": {},
   "outputs": [],
   "source": [
    "\n",
    "\n",
    "\n"
   ]
  }
 ],
 "metadata": {
  "kernelspec": {
   "display_name": "Python 3 (ipykernel)",
   "language": "python",
   "name": "python3"
  },
  "language_info": {
   "codemirror_mode": {
    "name": "ipython",
    "version": 3
   },
   "file_extension": ".py",
   "mimetype": "text/x-python",
   "name": "python",
   "nbconvert_exporter": "python",
   "pygments_lexer": "ipython3",
   "version": "3.12.3"
  }
 },
 "nbformat": 4,
 "nbformat_minor": 5
}
